{
 "cells": [
  {
   "cell_type": "markdown",
   "id": "1f3618f2",
   "metadata": {},
   "source": [
    "# Adaptação da Implementação de uma lista ordenada encadeada para ordenar pela descrição"
   ]
  },
  {
   "cell_type": "markdown",
   "id": "45573b74",
   "metadata": {},
   "source": [
    "O Nó da lista"
   ]
  },
  {
   "cell_type": "code",
   "execution_count": 1,
   "id": "925988c2",
   "metadata": {},
   "outputs": [],
   "source": [
    "#não houve alteração do código original\n",
    "class Node:\n",
    "    def __init__(self, qtd, preco, descricao):\n",
    "        self.qtd = qtd\n",
    "        self.preco = preco\n",
    "        self.descricao = descricao\n",
    "        self.next = None"
   ]
  },
  {
   "cell_type": "markdown",
   "id": "4b155f62",
   "metadata": {},
   "source": [
    "Construção da lista\n",
    "Estrutura da lista: Operações básica:\n",
    "\n",
    "insert\n",
    "search\n",
    "remove\n",
    "Operações complementares:\n",
    "\n",
    "is_empty\n",
    "display"
   ]
  },
  {
   "cell_type": "code",
   "execution_count": 6,
   "id": "8943784c",
   "metadata": {},
   "outputs": [],
   "source": [
    "class OrdenedList:\n",
    "    def __init__(self):\n",
    "        self.head = None\n",
    "\n",
    "    # Consulta se a lista está fazia\n",
    "    def is_empty(self):\n",
    "        return self.head is None\n",
    "    \n",
    "    # Inserção de elementos na lista\n",
    "    def insert(self, qtd, preco, descricao):\n",
    "        new_node = Node(qtd, preco, descricao)\n",
    "\n",
    "        #alterado o criterio preço para descrição \n",
    "        #descricacao.lower() para não ter diferença entre maiusculas e minusculas\n",
    "        if self.is_empty() or descricao.lower() <= self.head.descricao.lower(): #verificando se o lugar adequedo é a primeiro posição\n",
    "            new_node.next = self.head \n",
    "            self.head = new_node\n",
    "        else:\n",
    "            current = self.head\n",
    "            while current.next is not None and current.next.descricao.lower() < descricao.lower():\n",
    "                current = current.next\n",
    "            new_node.next = current.next\n",
    "            current.next = new_node\n",
    "\n",
    "    # Busca de elemento\n",
    "    # atualizado o criterio de busca para usar a descricao\n",
    "    def search(self, descricao):\n",
    "        current = self.head\n",
    "        while current is not None and current.descricao.lower() <= descricao.lower():\n",
    "            if current.descricao.lower() == descricao.lower():\n",
    "                print(f\"\\nBusca: Encontrado {current.descricao} com preço R$ {current.preco}\")\n",
    "                return current\n",
    "            current = current.next\n",
    "        print(\"\\nBusca: Descrição não encontrada\")\n",
    "        return None\n",
    "    \n",
    "    # Remoção\n",
    "    # atualizado o criterio de busca para usar a descricao\n",
    "    def remove(self, descricao):\n",
    "        if self.is_empty():\n",
    "            return None\n",
    "    \n",
    "        if self.head.descricao.lower() == descricao.lower():\n",
    "            removed_node = self.head\n",
    "            self.head = self.head.next\n",
    "            return removed_node\n",
    "        \n",
    "        current = self.head\n",
    "        while current.next is not None and current.next.descricao.lower() < descricao.lower():\n",
    "            current = current.next\n",
    "        \n",
    "        if current.next is None or current.next.descricao.lower() > descricao.lower():\n",
    "            return None\n",
    "        \n",
    "        removed_node = current.next\n",
    "        current.next = current.next.next\n",
    "        return removed_node\n",
    "\n",
    "    # Exibição da lista - Display\n",
    "    def display(self):\n",
    "        if self.is_empty():\n",
    "            print(\"A lista ordenada está vazia!\")\n",
    "        else:\n",
    "            current = self.head\n",
    "            while current:\n",
    "                print(f\"Qtd: {current.qtd}, Preço: {current.preco}, Descrição: {current.descricao}\")\n",
    "                current = current.next"
   ]
  },
  {
   "cell_type": "code",
   "execution_count": null,
   "id": "cd7f547d",
   "metadata": {},
   "outputs": [
    {
     "name": "stdout",
     "output_type": "stream",
     "text": [
      "Lista após inserções: \n",
      "Qtd: 4, Preço: 15.0, Descrição: Banana\n",
      "Qtd: 3, Preço: 15.0, Descrição: farinha\n",
      "Qtd: 1, Preço: 10.0, Descrição: Feijão\n",
      "Qtd: 1, Preço: 10.0, Descrição: Milho\n",
      "\n",
      "\n",
      "Nova exibição após a remoção\n",
      "Qtd: 3, Preço: 15.0, Descrição: farinha\n",
      "Qtd: 1, Preço: 10.0, Descrição: Feijão\n",
      "Qtd: 1, Preço: 10.0, Descrição: Milho\n",
      "\n",
      "Busca: Descrição não encontrada\n"
     ]
    }
   ],
   "source": [
    "ol = OrdenedList()\n",
    "\n",
    "ol.insert(1, 10.0, \"Milho\")\n",
    "ol.insert(4, 15.0, \"Banana\")\n",
    "ol.insert(1, 10.0, \"Feijão\")\n",
    "ol.insert(3, 15.0, \"farinha\")\n",
    "\n",
    "print(\"Lista após inserções: \")\n",
    "ol.display()\n",
    "\n",
    "\n",
    "ol.remove(\"banana\")\n",
    "\n",
    "print(\"\\n\\nNova exibição após a remoção\")\n",
    "ol.display()\n",
    "\n",
    "\n",
    "resultado = ol.search(\"fava\")\n"
   ]
  }
 ],
 "metadata": {
  "kernelspec": {
   "display_name": "base",
   "language": "python",
   "name": "python3"
  },
  "language_info": {
   "codemirror_mode": {
    "name": "ipython",
    "version": 3
   },
   "file_extension": ".py",
   "mimetype": "text/x-python",
   "name": "python",
   "nbconvert_exporter": "python",
   "pygments_lexer": "ipython3",
   "version": "3.12.7"
  }
 },
 "nbformat": 4,
 "nbformat_minor": 5
}
