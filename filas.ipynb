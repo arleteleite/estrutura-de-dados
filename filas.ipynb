{
 "cells": [
  {
   "cell_type": "markdown",
   "id": "13165f79",
   "metadata": {},
   "source": [
    "Implementação de Fila\n",
    "Nó da fila"
   ]
  },
  {
   "cell_type": "code",
   "execution_count": 1,
   "id": "d9881bc8",
   "metadata": {},
   "outputs": [],
   "source": [
    "class Node:\n",
    "    def __init__(self, value):\n",
    "        self.value = value\n",
    "        self.next = None"
   ]
  },
  {
   "cell_type": "markdown",
   "id": "bb120b2d",
   "metadata": {},
   "source": [
    "Fila"
   ]
  },
  {
   "cell_type": "code",
   "execution_count": 3,
   "id": "05d0e7af",
   "metadata": {},
   "outputs": [],
   "source": [
    "class Queue:\n",
    "    def __init__(self):\n",
    "        self.front = None\n",
    "        self.rear = None\n",
    "    \n",
    "    # Inclusão de elementos na fila\n",
    "    def enqueue(self, value):\n",
    "        new_node = Node(value)\n",
    "\n",
    "        if self.front == None:\n",
    "            self.front = self.rear = new_node\n",
    "            return\n",
    "        self.rear.next = new_node\n",
    "        self.rear = new_node\n",
    "\n",
    "    # Remoção de elemnto da fila\n",
    "    def dequeue(self):\n",
    "        if self.front == None:\n",
    "            raise Exception(\"Queue is empty\")\n",
    "        temp = self.front\n",
    "        self.front = self.front.next\n",
    "        if self.front == None:\n",
    "            self.rear = None\n",
    "        return temp.value\n",
    "\n",
    "    # Acessa o primeiro elemento da fila\n",
    "    def peek(self):\n",
    "        if self.front == None:\n",
    "            raise Exception(\"Queue is empty\")\n",
    "        return self.front.value\n",
    "    \n",
    "    # Verifica se a fila está vazia\n",
    "    def is_empty(self):\n",
    "        return self.front == None\n",
    "\n",
    "    # Exibe a fila\n",
    "    def display_queue(self):\n",
    "        current = self.front\n",
    "        while current != None:\n",
    "            print(current.value, end=\" \")\n",
    "            current = current.next\n",
    "        print() #apenas uma quebra de linha"
   ]
  },
  {
   "cell_type": "markdown",
   "id": "24e2f70e",
   "metadata": {},
   "source": [
    "Teste de uso da fila"
   ]
  },
  {
   "cell_type": "code",
   "execution_count": null,
   "id": "0b0a2181",
   "metadata": {},
   "outputs": [
    {
     "name": "stdout",
     "output_type": "stream",
     "text": [
      "A fila está vazia?  True\n",
      "Primeiro elemento da fila (peek) 1\n",
      "Fila após a adição de mais 3 elementos: \n",
      "2 3 23 45 43 \n",
      "Fila após remover dois elementos:\n",
      "23 45 43 \n",
      "Primeiro elemento da fila agora (peek): 23\n",
      "Fila não está vazia\n"
     ]
    }
   ],
   "source": [
    "fila = Queue()\n",
    "\n",
    "#verifica se a fila está vazia\n",
    "print(\"A fila está vazia? \", fila.is_empty())\n",
    "\n",
    "#enfileirando os elementos na fila\n",
    "fila.enqueue(1)\n",
    "print(\"Primeiro elemento da fila (peek)\", fila.peek())\n",
    "\n",
    "#removendo o primeiro elemento da fila\n",
    "fila.dequeue()\n",
    "\n",
    "#envileirando mais elementos na fila\n",
    "fila.enqueue(2)\n",
    "fila.enqueue(3)\n",
    "\n",
    "#adicionando mais três elementos na fila\n",
    "fila.enqueue(23)\n",
    "fila.enqueue(45)\n",
    "fila.enqueue(43)\n",
    "\n",
    "#exibindo o status atual da fila\n",
    "print(\"Fila após a adição de mais 3 elementos: \")\n",
    "fila.display_queue()\n",
    "\n",
    "# Removendo dois elementos da fila\n",
    "fila.dequeue() #não aceita argumentos, quem entrou primeiro sai primeiro... FIFO.. remove o 2\n",
    "fila.dequeue() #remove o 3\n",
    "\n",
    "# Exibindo a fila após as remoções\n",
    "print(\"Fila após remover dois elementos:\")\n",
    "fila.display_queue()\n",
    "\n",
    "# Visualizando o primeiro elemento atual da fila\n",
    "print(\"Primeiro elemento da fila agora (peek):\", fila.peek())\n",
    "\n",
    "# Verificando se a fila está vazia\n",
    "if fila.is_empty():\n",
    "    print(\"Fila está vazia\")\n",
    "else:\n",
    "    print(\"Fila não está vazia\")"
   ]
  }
 ],
 "metadata": {
  "kernelspec": {
   "display_name": "base",
   "language": "python",
   "name": "python3"
  },
  "language_info": {
   "codemirror_mode": {
    "name": "ipython",
    "version": 3
   },
   "file_extension": ".py",
   "mimetype": "text/x-python",
   "name": "python",
   "nbconvert_exporter": "python",
   "pygments_lexer": "ipython3",
   "version": "3.12.7"
  }
 },
 "nbformat": 4,
 "nbformat_minor": 5
}
