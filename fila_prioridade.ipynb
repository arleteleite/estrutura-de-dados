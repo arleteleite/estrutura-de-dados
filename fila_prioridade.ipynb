{
 "cells": [
  {
   "cell_type": "markdown",
   "id": "1ae10ba3",
   "metadata": {},
   "source": [
    "# Implementando uma fila de prioridades\n",
    "\n",
    "## Regra\n",
    "Cada elemento tem uma prioridade (um número: quanto menor o número, maior a prioridade).\n",
    "Quando chamar o dequeue(), ele vai remover o elemento com maior prioridade (número menor)."
   ]
  },
  {
   "cell_type": "code",
   "execution_count": 3,
   "id": "bad4d807",
   "metadata": {},
   "outputs": [],
   "source": [
    "# Nó da fila de prioridade\n",
    "class Node: # representa cada item da fila\n",
    "    def __init__(self, value, priority): # inicializa um novo nó com valor e prioridade\n",
    "        self.value = value\n",
    "        self.priority = priority\n",
    "        self.next = None #inicialmente o nó não aponta para ninguém -> é o último da fila\n",
    "\n",
    "# Fila de prioridade\n",
    "class PriorityQueue: # organiza os nós\n",
    "    def __init__(self):\n",
    "        self.front = None #fila de prioridades inicia vazia.\n",
    "\n",
    "    # Inclusão de elementos na fila de acordo com a prioridade\n",
    "    def enqueue(self, value, priority):\n",
    "        new_node = Node(value, priority)\n",
    "        # Se a fila está vazia ou o novo nó tem prioridade maior que o da frente\n",
    "        if self.front == None or priority < self.front.priority:\n",
    "            new_node.next = self.front #o novo nó aponta para o antigo primeiro nó\n",
    "            self.front = new_node # atualiza a frente da fila com o novo nó\n",
    "        else:\n",
    "            # Encontra o local correto para inserir\n",
    "            current = self.front\n",
    "            #pecorrendo a fila até encontrar o local certo de prioridade\n",
    "            while current.next and current.next.priority <= priority:\n",
    "                current = current.next\n",
    "            new_node.next = current.next #insere o novo nó no meio da fila, ou ele aponta para quem o current apontava antes\n",
    "            current.next = new_node # o current passa a apontar para o elemento inserido\n",
    "\n",
    "    # Remover o elemento de maior prioridade (menor número)\n",
    "    def dequeue(self):\n",
    "        if self.front == None:\n",
    "            raise Exception(\"Priority Queue is empty\") #se a fila estiver vazia\n",
    "        #remove o primeiro nó, de maior prioridade\n",
    "        temp = self.front\n",
    "        self.front = self.front.next\n",
    "        return temp.value # retorna o valor do nó removido\n",
    "\n",
    "    # Ver o elemento de maior prioridade, mas não remove\n",
    "    def peek(self):\n",
    "        if self.front == None:\n",
    "            raise Exception(\"Priority Queue is empty\")\n",
    "        return self.front.value\n",
    "\n",
    "    # Verificar se a fila está vazia\n",
    "    def is_empty(self):\n",
    "        return self.front == None\n",
    "\n",
    "    # Exibir a fila\n",
    "    def display_queue(self):\n",
    "        current = self.front\n",
    "        while current:\n",
    "            print(f\"(Valor: {current.value}, Prioridade: {current.priority})\", end=\" -> \")\n",
    "            current = current.next\n",
    "        print(\"None\")\n"
   ]
  },
  {
   "cell_type": "markdown",
   "id": "fae6cc2a",
   "metadata": {},
   "source": [
    "# Testantando a fila de prioridades"
   ]
  },
  {
   "cell_type": "code",
   "execution_count": 5,
   "id": "986eb69b",
   "metadata": {},
   "outputs": [
    {
     "name": "stdout",
     "output_type": "stream",
     "text": [
      "Fila atual:\n",
      "(Valor: Tarefa 4, Prioridade: 1) -> (Valor: Tarefa 1, Prioridade: 2) -> (Valor: Tarefa 3, Prioridade: 3) -> (Valor: Tarefa 2, Prioridade: 4) -> None\n",
      "Removendo: Tarefa 4\n",
      "Fila após remover o de maior prioridade:\n",
      "(Valor: Tarefa 1, Prioridade: 2) -> (Valor: Tarefa 3, Prioridade: 3) -> (Valor: Tarefa 2, Prioridade: 4) -> None\n",
      "Primeiro da fila agora: Tarefa 1\n"
     ]
    }
   ],
   "source": [
    "# Testando a fila de prioridade\n",
    "\n",
    "fila_prioridade = PriorityQueue()\n",
    "\n",
    "# Enfileirando elementos com diferentes prioridades\n",
    "fila_prioridade.enqueue(\"Tarefa 1\", 2)\n",
    "fila_prioridade.enqueue(\"Tarefa 2\", 4)  \n",
    "fila_prioridade.enqueue(\"Tarefa 3\", 3)\n",
    "fila_prioridade.enqueue(\"Tarefa 4\", 1) # prioridade mais alta\n",
    "\n",
    "# Exibindo a fila\n",
    "print(\"Fila atual:\")\n",
    "fila_prioridade.display_queue()\n",
    "\n",
    "# Removendo o elemento de maior prioridade\n",
    "print(\"Removendo:\", fila_prioridade.dequeue())\n",
    "\n",
    "# Exibindo a fila após remoção\n",
    "print(\"Fila após remover o de maior prioridade:\")\n",
    "fila_prioridade.display_queue()\n",
    "\n",
    "# Verificando quem é agora o primeiro\n",
    "print(\"Primeiro da fila agora:\", fila_prioridade.peek())\n"
   ]
  }
 ],
 "metadata": {
  "kernelspec": {
   "display_name": "base",
   "language": "python",
   "name": "python3"
  },
  "language_info": {
   "codemirror_mode": {
    "name": "ipython",
    "version": 3
   },
   "file_extension": ".py",
   "mimetype": "text/x-python",
   "name": "python",
   "nbconvert_exporter": "python",
   "pygments_lexer": "ipython3",
   "version": "3.12.7"
  }
 },
 "nbformat": 4,
 "nbformat_minor": 5
}
