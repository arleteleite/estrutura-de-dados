{
 "cells": [
  {
   "cell_type": "markdown",
   "id": "1f3618f2",
   "metadata": {},
   "source": [
    "# Implementação de uma lista ordenada encadeada"
   ]
  },
  {
   "cell_type": "markdown",
   "id": "45573b74",
   "metadata": {},
   "source": [
    "O Nó da lista"
   ]
  },
  {
   "cell_type": "code",
   "execution_count": 1,
   "id": "925988c2",
   "metadata": {},
   "outputs": [],
   "source": [
    "class Node:\n",
    "    def __init__(self, qtd, preco, descricao):\n",
    "        self.qtd = qtd\n",
    "        self.preco = preco\n",
    "        self.descricao = descricao\n",
    "        self.next = None"
   ]
  },
  {
   "cell_type": "markdown",
   "id": "4b155f62",
   "metadata": {},
   "source": [
    "Construção da lista\n",
    "Estrutura da lista: Operações básica:\n",
    "\n",
    "insert\n",
    "search\n",
    "remove\n",
    "Operações complementares:\n",
    "\n",
    "is_empty\n",
    "display"
   ]
  },
  {
   "cell_type": "code",
   "execution_count": 2,
   "id": "8943784c",
   "metadata": {},
   "outputs": [],
   "source": [
    "class OrdenedList:\n",
    "    def __init__(self):\n",
    "        self.head = None\n",
    "\n",
    "    # Consulta se a lista está fazia\n",
    "    def is_empty(self):\n",
    "        return self.head is None\n",
    "    \n",
    "    # Inserção de elementos na lista\n",
    "    def insert(self, qtd, preco, descricao):\n",
    "        new_node = Node(qtd, preco, descricao)\n",
    "\n",
    "        if self.is_empty() or preco <= self.head.preco: #verificando se o lugar adequedo é a primeiro posição\n",
    "            new_node.next = self.head \n",
    "            self.head = new_node\n",
    "        else:\n",
    "            current = self.head\n",
    "            while current.next is not None and current.next.preco < preco:\n",
    "                current = current.next\n",
    "            new_node.next = current.next\n",
    "            current.next = new_node\n",
    "\n",
    "    # Busca de elemento\n",
    "    def search(self, preco):\n",
    "        current = self.head\n",
    "        while current is not None and current.preco <= preco:\n",
    "            if current.preco == preco:\n",
    "                return current\n",
    "            current = current.next\n",
    "        return None\n",
    "    \n",
    "    # Remoção\n",
    "    def remove(self, preco):\n",
    "        if self.is_empty():\n",
    "            return None\n",
    "    \n",
    "        if self.head.preco == preco:\n",
    "            removed_node = self.head\n",
    "            self.head = self.head.next\n",
    "            return removed_node\n",
    "        \n",
    "        current = self.head\n",
    "        while current.next is not None and current.next.preco < preco:\n",
    "            current = current.next\n",
    "        \n",
    "        if current.next is None or current.next.preco > preco:\n",
    "            return None\n",
    "        \n",
    "        removed_node = current.next\n",
    "        current.next = current.next.next\n",
    "        return removed_node\n",
    "\n",
    "    # Exibição da lista - Display\n",
    "    def display(self):\n",
    "        if self.is_empty():\n",
    "            print(\"A lista ordenada está vazia!\")\n",
    "        else:\n",
    "            current = self.head\n",
    "            while current:\n",
    "                print(f\"Qtd: {current.qtd}, Preço: {current.preco}, Descrição: {current.descricao}\")\n",
    "                current = current.next"
   ]
  },
  {
   "cell_type": "code",
   "execution_count": 3,
   "id": "cd7f547d",
   "metadata": {},
   "outputs": [
    {
     "name": "stdout",
     "output_type": "stream",
     "text": [
      "Qtd: 1, Preço: 10.0, Descrição: item 1\n",
      "Qtd: 1, Preço: 15.0, Descrição: item 2\n",
      "\n",
      "\n",
      "Nova exibição após a remoção\n",
      "A lista ordenada está vazia!\n"
     ]
    }
   ],
   "source": [
    "ol = OrdenedList()\n",
    "\n",
    "ol.insert(1, 10.0, \"item 1\")\n",
    "ol.insert(1, 15.0, \"item 2\")\n",
    "\n",
    "ol.display()\n",
    "\n",
    "# resultado = ol.search(15.0)\n",
    "# print(resultado.descricao)\n",
    "\n",
    "ol.remove(15.0)\n",
    "ol.remove(10.0)\n",
    "\n",
    "print(\"\\n\\nNova exibição após a remoção\")\n",
    "ol.display()\n",
    "# resultado = ol.search(15.0)\n",
    "# print(resultado)"
   ]
  }
 ],
 "metadata": {
  "kernelspec": {
   "display_name": "base",
   "language": "python",
   "name": "python3"
  },
  "language_info": {
   "codemirror_mode": {
    "name": "ipython",
    "version": 3
   },
   "file_extension": ".py",
   "mimetype": "text/x-python",
   "name": "python",
   "nbconvert_exporter": "python",
   "pygments_lexer": "ipython3",
   "version": "3.12.7"
  }
 },
 "nbformat": 4,
 "nbformat_minor": 5
}
